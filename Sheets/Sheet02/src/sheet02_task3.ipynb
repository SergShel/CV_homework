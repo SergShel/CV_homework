{
 "cells": [
  {
   "cell_type": "code",
   "execution_count": null,
   "metadata": {},
   "outputs": [],
   "source": [
    "import cv2 as cv\n",
    "import numpy as np\n",
    "import os\n",
    "import time\n",
    "import matplotlib.pyplot as plt"
   ]
  },
  {
   "cell_type": "code",
   "execution_count": null,
   "metadata": {},
   "outputs": [],
   "source": [
    "def display_image(window_name, img, window_1_name=None, img_1=None):\n",
    "    \"\"\"\n",
    "    Displays image with given window name.\n",
    "    :param window_name: name of the window\n",
    "    :param img: image object to display\n",
    "    \"\"\"\n",
    "    if window_1_name is not None and img_1 is not None:\n",
    "        plt.figure(figsize=(20, 10))\n",
    "        plt.subplot(1, 2, 1)\n",
    "        plt.imshow(img, cmap=\"gray\")\n",
    "        plt.title(window_name)\n",
    "        plt.subplot(1, 2, 2)\n",
    "        plt.imshow(img_1, cmap=\"gray\")\n",
    "        plt.title(window_1_name)\n",
    "    else:\n",
    "        plt.imshow(img, cmap='gray')\n",
    "        plt.title(window_name)\n",
    "        plt.show()  \n",
    "\n",
    "    \n",
    "        "
   ]
  },
  {
   "cell_type": "code",
   "execution_count": null,
   "metadata": {},
   "outputs": [],
   "source": [
    "def normalized_cross_correlation(im_1, im_2):\n",
    "    \"\"\"\n",
    "    Computes the normalized cross correlation between two images.\n",
    "    \"\"\"\n",
    "    im_1_mean = np.mean(im_1)\n",
    "    im_2_mean = np.mean(im_2)\n",
    "\n",
    "    norm = np.sqrt(\n",
    "                np.sum(np.power(im_2 - im_2_mean, 2))\n",
    "                * np.sum(np.power(im_1 - im_2_mean, 2))\n",
    "            )\n",
    "\n",
    "    return np.sum(np.multiply(im_2 - im_2_mean, im_1 - im_1_mean)) / norm\n",
    "    "
   ]
  },
  {
   "cell_type": "code",
   "execution_count": null,
   "metadata": {},
   "outputs": [],
   "source": [
    "def draw_rectangle_at_detection(image, template_shape, detection_positions):\n",
    "    detection_positions = zip(detection_positions[0], detection_positions[1])\n",
    "    for detection_position in detection_positions:\n",
    "        cv.rectangle(\n",
    "            image,\n",
    "            (detection_position[1], detection_position[0]),\n",
    "            (detection_position[1] + template_shape[1], detection_position[0] + template_shape[0]),\n",
    "            0\n",
    "        )\n",
    "    return image"
   ]
  },
  {
   "cell_type": "code",
   "execution_count": null,
   "metadata": {},
   "outputs": [],
   "source": [
    "def templ_matching_nxc(image, template):\n",
    "    \"\"\"\n",
    "    Computes the normalized cross correlation between the template and every possible location in the image.\n",
    "    :param image: image to search in\n",
    "    :param template: template to search for\n",
    "    :return: image with the normalized cross correlation\n",
    "    \"\"\"\n",
    "    image_h, image_w = image.shape\n",
    "    template_h, template_w = template.shape\n",
    "\n",
    "    result = np.zeros(\n",
    "        (image_h - template_h + 1, image_w - template_w + 1), dtype=np.float32\n",
    "    )\n",
    "    for i in range(result.shape[0]):\n",
    "        for j in range(result.shape[1]):\n",
    "            result[i, j] = normalized_cross_correlation(\n",
    "                image[i : i + template_h, j : j + template_w], template\n",
    "            )\n",
    "    if result.min() < 0:\n",
    "        result = result - result.min()\n",
    "    result /= result.max()\n",
    "    return result"
   ]
  },
  {
   "cell_type": "markdown",
   "metadata": {},
   "source": [
    "## Task 3. Template matching multi-scale\n",
    "\n",
    "In this task, we will build the Gaussian pyramid to make template matching work at different resolutions. \n",
    "Read the image DogGray.jpeg and the template DogTemplate.jpeg"
   ]
  },
  {
   "cell_type": "code",
   "execution_count": null,
   "metadata": {},
   "outputs": [],
   "source": [
    "# set images pathes\n",
    "dog_path = '../data/DogGray.jpeg'\n",
    "dog_template_path = '../data/DogTemplate.jpeg'\n",
    "# read imgs\n",
    "dog = cv.imread(dog_path, cv.IMREAD_GRAYSCALE)\n",
    "dog_template = cv.imread(dog_template_path, cv.IMREAD_GRAYSCALE)\n",
    "\n",
    "display_image('Dog', dog)\n",
    "display_image('Dog template', dog_template)"
   ]
  },
  {
   "cell_type": "markdown",
   "metadata": {},
   "source": [
    "* Build a 5 level Gaussian pyramid by downsampling input image yourself."
   ]
  },
  {
   "cell_type": "code",
   "execution_count": null,
   "metadata": {},
   "outputs": [],
   "source": [
    "def build_gaussian_pyramid(image, num_levels):\n",
    "    \"\"\"\n",
    "    Builds a Gaussian pyramid of an image.\n",
    "    :param image: image to build the pyramid from\n",
    "    :param num_levels: number of levels in the pyramid\n",
    "    :return: Gaussian pyramid\n",
    "    \"\"\"\n",
    "    pyramid = [image]\n",
    "    for i in range(num_levels - 1):\n",
    "        # pyramid.append(cv.pyrDown(pyramid[i]))\n",
    "        blurred_image = cv.GaussianBlur(src=image, ksize=(0, 0), sigmaX=1)\n",
    "        image = blurred_image[0::2, 0::2] # downsampling by 2 (even rows and columns)\n",
    "        pyramid.append(image)\n",
    "    return pyramid\n",
    "\n",
    "    "
   ]
  },
  {
   "cell_type": "markdown",
   "metadata": {},
   "source": [
    "* Now create a 5 level Gaussian pyramid using cv2.pyrDown. Compare it with\n",
    "your implementation by printing the mean absolute difference at each level."
   ]
  },
  {
   "cell_type": "code",
   "execution_count": null,
   "metadata": {},
   "outputs": [],
   "source": [
    "def build_gaussian_pyramid_opencv(image, num_levels):\n",
    "    pyramid = [image]\n",
    "    for i in range(num_levels - 1):\n",
    "        pyramid.append(cv.pyrDown(pyramid[i])) \n",
    "    return pyramid"
   ]
  },
  {
   "cell_type": "code",
   "execution_count": null,
   "metadata": {},
   "outputs": [],
   "source": [
    "pyramid_my = build_gaussian_pyramid(dog, 5)\n",
    "pyramid_cv = build_gaussian_pyramid_opencv(dog, 5)\n",
    "for i, images in enumerate(zip(pyramid_cv, pyramid_my)):\n",
    "    display_image(f'cv Gaussian pyramid level {i}', images[0], f'my Gaussian pyramid level {i}', images[1]) \n",
    "    print(f\"Mean absolute difference between the two images (lavel {i}): {np.mean(np.abs(images[0] - images[1]))}\")"
   ]
  },
  {
   "cell_type": "markdown",
   "metadata": {},
   "source": [
    "* Perform template matching by using your implementation of normalized cross\n",
    "correlation . Report the time taken by this method."
   ]
  },
  {
   "cell_type": "code",
   "execution_count": null,
   "metadata": {},
   "outputs": [],
   "source": [
    "start = time.perf_counter()\n",
    "similarity_nxc_img_ = templ_matching_nxc(dog, dog_template)\n",
    "end = time.perf_counter()\n",
    "print(f\"Time for NXC: {end - start} seconds\")\n",
    "display_image('NXC', similarity_nxc_img_)"
   ]
  },
  {
   "cell_type": "code",
   "execution_count": null,
   "metadata": {},
   "outputs": [],
   "source": [
    "detections = np.where(similarity_nxc_img_ >= 0.7613)\n",
    "print(similarity_nxc_img_.max(  ))\n",
    "result = draw_rectangle_at_detection(dog, dog_template.shape, detections)\n",
    "display_image('NXC detections', result)"
   ]
  },
  {
   "cell_type": "markdown",
   "metadata": {},
   "source": [
    "* Show the template matching using normalized cross correlation at the different\n",
    "Pyramid levels of both the template and input images (you can use the pyramid\n",
    "obtained by pyrDown)."
   ]
  },
  {
   "cell_type": "code",
   "execution_count": null,
   "metadata": {},
   "outputs": [],
   "source": [
    "# pyramid_cv\n",
    "pyramid_tmpl_cv = build_gaussian_pyramid_opencv(dog_template, 5)\n",
    "\n",
    "similarity_nxc_img_arr = [similarity_nxc_img_]\n",
    "time_arr = [end - start]\n",
    "for i in range(1, len(pyramid_cv)):\n",
    "    start = time.perf_counter()\n",
    "    similarity_nxc_img_arr.append(templ_matching_nxc(pyramid_cv[i], pyramid_tmpl_cv[i]))\n",
    "    end = time.perf_counter()\n",
    "    time_arr.append(end - start)\n",
    "\n",
    "for i, simil_image in enumerate(similarity_nxc_img_arr):\n",
    "    detections = np.where(simil_image >= simil_image.max( ) - 0.003)\n",
    "    print(simil_image.max( ))\n",
    "    result_ = draw_rectangle_at_detection(pyramid_cv[i], pyramid_tmpl_cv[i].shape, detections)\n",
    "    display_image(f'NXC image (level{i})', simil_image, f'NXC detections (level{i})', result_)\n",
    "    print(f\"Time for NXC image in level {i}: {time_arr[i]} seconds\")"
   ]
  },
  {
   "cell_type": "markdown",
   "metadata": {},
   "source": [
    "* As you observed, implementing template matching naively is not efficient. Now\n",
    "we will rely on the pyramid technique while constraining the search space in\n",
    "order to make it faster. Follow the procedure described in the lecture slides:\n",
    "search only in regions with high similarity in the previous pyramid level. Compare\n",
    "the times taken by this method and the naive implementation."
   ]
  },
  {
   "cell_type": "code",
   "execution_count": null,
   "metadata": {},
   "outputs": [],
   "source": [
    "\n",
    "def template_matching_multiple_scales(pyramid_image, pyramid_template, visualize=False):\n",
    "    \"\"\"\n",
    "    Performs template matching on multiple scales.\n",
    "    :param pyramid_image: image pyramid\n",
    "    :param pyramid_template: template pyramid\n",
    "    :return: similarity map\n",
    "    \"\"\"\n",
    "\n",
    "    # reverse pyramid_image and pyramid_template\n",
    "    pyramid_image = pyramid_image[::-1]\n",
    "    pyramid_template = pyramid_template[::-1]\n",
    "\n",
    "\n",
    "    similarity_img = templ_matching_nxc(pyramid_image[0], pyramid_template[0])\n",
    "    if similarity_img.min() < 0:\n",
    "        similarity_img = similarity_img - similarity_img.min()\n",
    "    similarity_img = similarity_img / similarity_img.max()\n",
    "\n",
    "    if visualize:\n",
    "        display_image(f'NXC-multiscale similarity image (level)', similarity_img)\n",
    "\n",
    "    threshold = 0.75\n",
    "    search_window_size = 7\n",
    "\n",
    "    for i in range(1, len(pyramid_image)):\n",
    "        detection_positions = np.where(similarity_img >= threshold)\n",
    "        print(f\"Number of detections in level {len(pyramid_image)-i}: {len(detection_positions[0])}\")\n",
    "        detection_positions = zip(detection_positions[0], detection_positions[1])\n",
    "\n",
    "        similarity_img = np.zeros_like(pyramid_image[i])\n",
    "\n",
    "        image_height, image_width = pyramid_image[i].shape\n",
    "        template_height, template_width = pyramid_template[i].shape\n",
    "\n",
    "        \n",
    "        for detection_position in detection_positions:\n",
    "            \n",
    "            # upscale detection position for the next level\n",
    "            detection_position = [detection_position[0] * 2, detection_position[1] * 2]\n",
    "            #  detection_position = [x * 2 for x in detection_position]  # match location in the higher scale\n",
    "            \n",
    "            # check if the detection position is in the image, if not, set it to 0\n",
    "            top_left_corner = max(detection_position[0] - search_window_size, 0), max(detection_position[1] - search_window_size, 0)\n",
    "            detection_position[0] += template_height\n",
    "            detection_position[1] += template_width\n",
    "\n",
    "            # check if the detection position is in the image, if not, set it to heigth/width of image\n",
    "            bottom_right_corner = min(detection_position[0] + search_window_size, image_height), min(detection_position[1] + search_window_size, image_width)\n",
    "\n",
    "            patch = pyramid_image[i][\n",
    "                top_left_corner[0] : bottom_right_corner[0],\n",
    "                top_left_corner[1] : bottom_right_corner[1],\n",
    "            ]\n",
    "\n",
    "            #display_image(f'Patch', patch)\n",
    "\n",
    "            # calculate similarity only inside of the patch\n",
    "            similarity = templ_matching_nxc(patch, pyramid_template[i]) #!!!!!!!!!!!!!!!!!!!!!!!!!!!!!!!!!!!!!!!!!!!!!!!!!!!\n",
    "            similarity_result = np.zeros_like(patch)\n",
    "\n",
    "            similarity_result[:similarity.shape[0], :similarity.shape[1]] = similarity #!!!!!!!!!!!!!!!!!!!!!!!!!!!!!!!!!!!!!!!!!!!!!!!!!!!\n",
    "            # similarity_result = templ_matching_nxc(patch, pyramid_template[i])\n",
    "            similarity_img_patch = similarity_img[\n",
    "                top_left_corner[0] : bottom_right_corner[0],\n",
    "                top_left_corner[1] : bottom_right_corner[1],\n",
    "            ]\n",
    "            #print(similarity_img_patch.max( ))\n",
    "            # find location of increased similarity and save as mask\n",
    "            mask = np.float32(similarity_result > similarity_img_patch)\n",
    "            \n",
    "            # increase values of similarty_img only where mask is 1 and only in the patch lacation\n",
    "            similarity_img[\n",
    "                top_left_corner[0] : bottom_right_corner[0],\n",
    "                top_left_corner[1] : bottom_right_corner[1],\n",
    "            ] = (mask * similarity_result + (1 - mask) * similarity_img_patch).astype(np.uint8)\n",
    "\n",
    "        if visualize:\n",
    "            display_image(f'NXC-multiscale similarity image (level{len(pyramid_image) - i-1})', similarity_img)\n",
    "            \n",
    "    return similarity_img\n"
   ]
  },
  {
   "cell_type": "code",
   "execution_count": null,
   "metadata": {},
   "outputs": [],
   "source": [
    "pyramid_cv = build_gaussian_pyramid_opencv(dog, 5)\n",
    "pyramid_tmpl_cv = build_gaussian_pyramid_opencv(dog_template, 5)\n",
    "start = time.perf_counter()\n",
    "similarity_nxc_multiscale_img = template_matching_multiple_scales(pyramid_cv, pyramid_tmpl_cv)\n",
    "end = time.perf_counter()\n",
    "print(f\"Time for NXC multiscale: {end - start} seconds\")\n",
    "display_image('NXC multiscale, similarity image', similarity_nxc_multiscale_img)"
   ]
  },
  {
   "cell_type": "code",
   "execution_count": null,
   "metadata": {},
   "outputs": [],
   "source": [
    "dog = cv.imread(dog_path, cv.IMREAD_GRAYSCALE)\n",
    "detections = np.where(similarity_nxc_multiscale_img >= 0.99)\n",
    "result_multiscale_ = draw_rectangle_at_detection(dog, pyramid_tmpl_cv[0].shape, detections)\n",
    "display_image('NXC multiscale, detections', result_multiscale_)"
   ]
  },
  {
   "cell_type": "code",
   "execution_count": null,
   "metadata": {},
   "outputs": [],
   "source": [
    "similarity_nxc_multiscale_img_visual = template_matching_multiple_scales(pyramid_cv, pyramid_tmpl_cv, True)\n"
   ]
  },
  {
   "cell_type": "code",
   "execution_count": null,
   "metadata": {},
   "outputs": [],
   "source": []
  }
 ],
 "metadata": {
  "kernelspec": {
   "display_name": "Python 3.8.13 ('cv_env')",
   "language": "python",
   "name": "python3"
  },
  "language_info": {
   "codemirror_mode": {
    "name": "ipython",
    "version": 3
   },
   "file_extension": ".py",
   "mimetype": "text/x-python",
   "name": "python",
   "nbconvert_exporter": "python",
   "pygments_lexer": "ipython3",
   "version": "3.8.13"
  },
  "orig_nbformat": 4,
  "vscode": {
   "interpreter": {
    "hash": "6575df8689e32b9fc05c86a642b5f1ce6f6ccbbde21a4863f25235c356e119e3"
   }
  }
 },
 "nbformat": 4,
 "nbformat_minor": 2
}
