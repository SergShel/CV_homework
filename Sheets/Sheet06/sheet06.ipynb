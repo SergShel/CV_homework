{
 "cells": [
  {
   "cell_type": "code",
   "execution_count": 2,
   "metadata": {},
   "outputs": [],
   "source": [
    "import numpy as np\n",
    "import cv2 as cv\n",
    "from matplotlib import pyplot as plt\n",
    "import maxflow\n",
    "\n",
    "\n",
    "def display_image(window_name, img, window_1_name=None, img_1=None):\n",
    "    \"\"\"\n",
    "    Displays image with given window name.\n",
    "    :param window_name: name of the window\n",
    "    :param img: image object to display\n",
    "    \"\"\"\n",
    "    if window_1_name is not None and img_1 is not None:\n",
    "        plt.figure(figsize=(15, 10))\n",
    "        plt.subplot(1, 2, 1)\n",
    "        plt.imshow(img, cmap=\"gray\")\n",
    "        plt.title(window_name)\n",
    "        plt.subplot(1, 2, 2)\n",
    "        plt.imshow(img_1, cmap=\"gray\")\n",
    "        plt.title(window_1_name)\n",
    "    else:\n",
    "        plt.imshow(img, cmap=\"gray\")\n",
    "        plt.title(window_name)\n",
    "        plt.show()"
   ]
  },
  {
   "cell_type": "markdown",
   "metadata": {},
   "source": [
    "## Assignment 6\n",
    "### Task 2. Kalman Filtering"
   ]
  },
  {
   "cell_type": "markdown",
   "metadata": {},
   "source": [
    "You need to implement the basic Kalman Filtering algorithm.  You observe a set of 2D noisy observations $(x_i,y_i)$ which are the coordinates of the 2D space as shown in Figure 1.\n",
    "\n",
    "<img style=\"padding-left:280px\" src='data/task2.png' width=\"600\" >"
   ]
  },
  {
   "cell_type": "code",
   "execution_count": 3,
   "metadata": {},
   "outputs": [],
   "source": [
    "import task02 as t2"
   ]
  },
  {
   "cell_type": "code",
   "execution_count": 5,
   "metadata": {},
   "outputs": [],
   "source": [
    "class KalmanFilter(object):\n",
    "    def __init__(self, psi, sigma_p, phi, sigma_m, tau):\n",
    "        self.psi = psi\n",
    "        self.sigma_p = sigma_p\n",
    "        self.phi = phi\n",
    "        self.sigma_m = sigma_m\n",
    "        self.state = None\n",
    "        self.convariance = None\n",
    "        self.tau = tau\n",
    "\n",
    "    def init(self, init_state):\n",
    "        self.state = init_state\n",
    "        self.covariance = 0.01 * np.identity(init_state.shape[0])\n",
    "\n",
    "    def track(self, xt):\n",
    "        \n",
    "        # State Prediction.  self.state is the previous state (mu_t_minus_1)\n",
    "        mu_plus = np.matmul(self.psi, self.state)\n",
    "\n",
    "        # Covariance Prediction.  self.covariance is the previous covariance (Sigma_t_minus_1)\n",
    "        sigma_plus = self.sigma_p + np.matmul(np.matmul(self.psi, self.covariance), self.psi.T) \n",
    "\n",
    "        # Kalman Gain.  \n",
    "        K = np.matmul(np.matmul(sigma_plus, self.phi.T), np.linalg.inv(self.sigma_m + np.matmul(np.matmul(self.phi, sigma_plus), self.phi.T)))\n",
    "\n",
    "        # State Update.  xt is the current observation \n",
    "        self.state = mu_plus + np.matmul(K, (xt - np.matmul(self.phi, mu_plus)))   # TODO mu_m ????\n",
    "\n",
    "        # Covariance Update.\n",
    "        self.covariance = np.matmul((np.identity(self.state.shape[0]) - np.matmul(K, self.phi)), sigma_plus)  \n",
    "\n",
    "        \n",
    "\n",
    "\n",
    "\n",
    "\n",
    "    def get_current_location(self):\n",
    "        curr_location = np.matmul(self.phi, self.state)\n",
    "        return curr_location"
   ]
  },
  {
   "cell_type": "code",
   "execution_count": 8,
   "metadata": {},
   "outputs": [
    {
     "data": {
      "image/png": "[encoded data removed]",
      "text/plain": [
       "<Figure size 1000x1000 with 1 Axes>"
      ]
     },
     "metadata": {},
     "output_type": "display_data"
    }
   ],
   "source": [
    "psi, sigma_p, phi, sigma_m = t2.get_world_model()\n",
    "\n",
    "init_state = np.array([-10, -15, 1, -2])\n",
    "\n",
    "kalman_filter = KalmanFilter(psi, sigma_p, phi, sigma_m, 0.1)\n",
    "kalman_filter.init(init_state)\n",
    "\n",
    "track = t2.perform_tracking(kalman_filter)\n",
    "\n",
    "fig = plt.figure(figsize=(10, 10))\n",
    "ax = fig.add_subplot(111)\n",
    "\n",
    "num_steps = len(t2.observations) \n",
    "for n in range(num_steps):\n",
    "    ax.clear()\n",
    "    o_x, o_y = t2.get_data_at_iteration(n, t2.observations) \n",
    "    # TODO: \n",
    "    t_x, t_y = t2.get_data_at_iteration(n, track) \n",
    "    # t_x, t_y = 0, 0\n",
    "         \n",
    "    ax.plot(o_x, o_y, 'g', label='observations')\n",
    "    ax.plot(t_x, t_y, 'y', label='Kalman')\n",
    "    ax.legend()\n",
    "    plt.pause(0.01)\n",
    "plt.pause(3)"
   ]
  }
 ],
 "metadata": {
  "kernelspec": {
   "display_name": "Python 3.8.13 ('cv_env')",
   "language": "python",
   "name": "python3"
  },
  "language_info": {
   "codemirror_mode": {
    "name": "ipython",
    "version": 3
   },
   "file_extension": ".py",
   "mimetype": "text/x-python",
   "name": "python",
   "nbconvert_exporter": "python",
   "pygments_lexer": "ipython3",
   "version": "3.8.13"
  },
  "orig_nbformat": 4,
  "vscode": {
   "interpreter": {
    "hash": "6575df8689e32b9fc05c86a642b5f1ce6f6ccbbde21a4863f25235c356e119e3"
   }
  }
 },
 "nbformat": 4,
 "nbformat_minor": 2
}
