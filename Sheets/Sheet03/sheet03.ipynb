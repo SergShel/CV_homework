{
 "cells": [
  {
   "cell_type": "code",
   "execution_count": 1,
   "metadata": {},
   "outputs": [],
   "source": [
    "import cv2 as cv\n",
    "import numpy as np\n",
    "import os\n",
    "import time\n",
    "import matplotlib.pyplot as plt"
   ]
  },
  {
   "cell_type": "code",
   "execution_count": 2,
   "metadata": {},
   "outputs": [],
   "source": [
    "def display_image(window_name, img, window_1_name=None, img_1=None):\n",
    "    \"\"\"\n",
    "    Displays image with given window name.\n",
    "    :param window_name: name of the window\n",
    "    :param img: image object to display\n",
    "    \"\"\"\n",
    "    if window_1_name is not None and img_1 is not None:\n",
    "        plt.figure(figsize=(20, 10))\n",
    "        plt.subplot(1, 2, 1)\n",
    "        plt.imshow(img, cmap=\"gray\")\n",
    "        plt.title(window_name)\n",
    "        plt.subplot(1, 2, 2)\n",
    "        plt.imshow(img_1, cmap=\"gray\")\n",
    "        plt.title(window_1_name)\n",
    "    else:\n",
    "        plt.imshow(img, cmap='gray')\n",
    "        plt.title(window_name)\n",
    "        plt.show()"
   ]
  },
  {
   "cell_type": "markdown",
   "metadata": {},
   "source": [
    "## Task 1. Hough Transform for Circles\n",
    "\n",
    "Read the image billiards.png"
   ]
  },
  {
   "cell_type": "code",
   "execution_count": null,
   "metadata": {},
   "outputs": [],
   "source": []
  }
 ],
 "metadata": {
  "kernelspec": {
   "display_name": "Python 3.8.13 ('cv_env')",
   "language": "python",
   "name": "python3"
  },
  "language_info": {
   "codemirror_mode": {
    "name": "ipython",
    "version": 3
   },
   "file_extension": ".py",
   "mimetype": "text/x-python",
   "name": "python",
   "nbconvert_exporter": "python",
   "pygments_lexer": "ipython3",
   "version": "3.8.13"
  },
  "orig_nbformat": 4,
  "vscode": {
   "interpreter": {
    "hash": "6575df8689e32b9fc05c86a642b5f1ce6f6ccbbde21a4863f25235c356e119e3"
   }
  }
 },
 "nbformat": 4,
 "nbformat_minor": 2
}
