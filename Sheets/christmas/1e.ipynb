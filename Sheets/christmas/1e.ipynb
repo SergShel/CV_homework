{
 "cells": [
  {
   "cell_type": "code",
   "execution_count": 27,
   "metadata": {},
   "outputs": [
    {
     "name": "stdout",
     "output_type": "stream",
     "text": [
      "rank: 1\n",
      "v: [ 5.86755837 -1.67644525 -0.83822262 -3.3528905  -2.51466787]\n",
      "u: [-3.57900146  1.19300049  0.          5.96500244 -2.38600097]\n"
     ]
    }
   ],
   "source": [
    "import numpy as np\n",
    "\n",
    "A = np.array([[-21, 6, 3, 12, 9],\n",
    "              [7, -2, -1, -4, -3],\n",
    "              [0, 0, 0, 0, 0],\n",
    "              [35, -10, -5, -20, -15],\n",
    "              [-14, 4, 2, 8, 6]])\n",
    "\n",
    "# compute rank of A\n",
    "rank = np.linalg.matrix_rank(A)\n",
    "print(f\"rank: {rank}\")\n",
    "\n",
    "# Compute the SVD of A\n",
    "U, S, V = np.linalg.svd(A)\n",
    "s_value = S[0]\n",
    "\n",
    "v = V[0] * np.sqrt(s_value)\n",
    "u = U[:, 0] * np.sqrt(s_value)\n",
    "print(f\"v: {v}\")\n",
    "print(f\"u: {u}\")"
   ]
  },
  {
   "cell_type": "code",
   "execution_count": 25,
   "metadata": {},
   "outputs": [
    {
     "name": "stdout",
     "output_type": "stream",
     "text": [
      "test_A: \n",
      "[[-21.   6.   3.  12.   9.]\n",
      " [  7.  -2.  -1.  -4.  -3.]\n",
      " [  0.  -0.  -0.  -0.  -0.]\n",
      " [ 35. -10.  -5. -20. -15.]\n",
      " [-14.   4.   2.   8.   6.]]\n"
     ]
    }
   ],
   "source": [
    "#let's check the result of multiplication\n",
    "test_A = np.outer(u, v)\n",
    "print(f\"test_A: \\n{test_A}\")\n"
   ]
  },
  {
   "cell_type": "code",
   "execution_count": null,
   "metadata": {},
   "outputs": [],
   "source": []
  }
 ],
 "metadata": {
  "kernelspec": {
   "display_name": "cv_env",
   "language": "python",
   "name": "python3"
  },
  "language_info": {
   "codemirror_mode": {
    "name": "ipython",
    "version": 3
   },
   "file_extension": ".py",
   "mimetype": "text/x-python",
   "name": "python",
   "nbconvert_exporter": "python",
   "pygments_lexer": "ipython3",
   "version": "3.8.13"
  },
  "orig_nbformat": 4,
  "vscode": {
   "interpreter": {
    "hash": "6575df8689e32b9fc05c86a642b5f1ce6f6ccbbde21a4863f25235c356e119e3"
   }
  }
 },
 "nbformat": 4,
 "nbformat_minor": 2
}
