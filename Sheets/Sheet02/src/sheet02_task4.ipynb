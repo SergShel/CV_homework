{
 "cells": [
  {
   "cell_type": "code",
   "execution_count": null,
   "metadata": {},
   "outputs": [],
   "source": [
    "import cv2 as cv\n",
    "import numpy as np\n",
    "import os\n",
    "import time\n",
    "import matplotlib.pyplot as plt"
   ]
  },
  {
   "cell_type": "code",
   "execution_count": null,
   "metadata": {},
   "outputs": [],
   "source": [
    "def display_image(window_name, img, window_1_name=None, img_1=None):\n",
    "    \"\"\"\n",
    "    Displays image with given window name.\n",
    "    :param window_name: name of the window\n",
    "    :param img: image object to display\n",
    "    \"\"\"\n",
    "    if window_1_name is not None and img_1 is not None:\n",
    "        plt.figure(figsize=(20, 10))\n",
    "        plt.subplot(1, 2, 1)\n",
    "        plt.imshow(img, cmap=\"gray\")\n",
    "        plt.title(window_name)\n",
    "        plt.subplot(1, 2, 2)\n",
    "        plt.imshow(img_1, cmap=\"gray\")\n",
    "        plt.title(window_1_name)\n",
    "    else:\n",
    "        plt.imshow(img, cmap='gray')\n",
    "        plt.title(window_name)\n",
    "        plt.show()  \n"
   ]
  },
  {
   "cell_type": "markdown",
   "metadata": {},
   "source": [
    "## Task 4. Pyramids for image blending In this task, we will stitch two images using pyramids.\n",
    "Without pyramids, blending does not look natural because of discontinuities\n",
    "between the pixel values. We will blend the images dog.jpeg and moon.jpeg.\n"
   ]
  },
  {
   "cell_type": "markdown",
   "metadata": {},
   "source": [
    "* Load the two images dog.jpeg and moon.jpeg."
   ]
  },
  {
   "cell_type": "code",
   "execution_count": null,
   "metadata": {},
   "outputs": [],
   "source": [
    "# set images pathes\n",
    "dog_path = '../data/dog.jpeg'\n",
    "moon_path = '../data/moon.jpeg'\n",
    "# read imgs\n",
    "dog = cv.imread(dog_path, cv.IMREAD_GRAYSCALE)\n",
    "moon = cv.imread(moon_path, cv.IMREAD_GRAYSCALE)\n",
    "\n",
    "display_image('Dog', dog)\n",
    "display_image('Moon', moon)"
   ]
  },
  {
   "cell_type": "markdown",
   "metadata": {},
   "source": [
    "* Create the Gaussian Pyramids of the two images, and find their Laplacian\n",
    "Pyramids LA and LB (remember that a Laplacian Pyramid is the difference\n",
    "between two levels in the Gaussian Pyramid as explained in the lecture, i.e.\n",
    "Li = Gi − expand(Gi+1)). Set the number of levels to 5."
   ]
  },
  {
   "cell_type": "code",
   "execution_count": null,
   "metadata": {},
   "outputs": [],
   "source": [
    "def build_gaussian_pyramid_opencv(image, num_levels):\n",
    "    pyramid = [image]\n",
    "    for i in range(num_levels - 1):\n",
    "        pyramid.append(cv.pyrDown(pyramid[i])) \n",
    "    return pyramid"
   ]
  },
  {
   "cell_type": "code",
   "execution_count": null,
   "metadata": {},
   "outputs": [],
   "source": [
    "def expand_opencv(image, shape):\n",
    "    upscaled = cv.pyrUp(image)\n",
    "    if(upscaled.shape[0] > shape[0] or upscaled.shape[1] > shape[1]):\n",
    "        upscaled = upscaled[:shape[0], :shape[1]]\n",
    "    return upscaled"
   ]
  },
  {
   "cell_type": "code",
   "execution_count": null,
   "metadata": {},
   "outputs": [],
   "source": [
    "def expand_my(image, shape):\n",
    "    upscaled = np.repeat(image, 2, axis=0)\n",
    "    upscaled = np.repeat(upscaled, 2, axis=1)\n",
    "    if(upscaled.shape[0] > shape[0] or upscaled.shape[1] > shape[1]):\n",
    "        upscaled = upscaled[:shape[0], :shape[1]]\n",
    "    return upscaled"
   ]
  },
  {
   "cell_type": "code",
   "execution_count": null,
   "metadata": {},
   "outputs": [],
   "source": [
    "def build_laplacian_pyramid_opencv(gaussian_pyramid_image):\n",
    "    pyramid = []\n",
    "    for i in range(0, len(gaussian_pyramid_image) - 1):\n",
    "        shape = gaussian_pyramid_image[i].shape\n",
    "        expanded_img = expand_opencv(gaussian_pyramid_image[i+1], shape)\n",
    "        laplacian_img = cv.subtract(gaussian_pyramid_image[i], expanded_img)\n",
    "        pyramid.append(laplacian_img)\n",
    "    pyramid.append(gaussian_pyramid_image[-1])\n",
    "    return pyramid"
   ]
  },
  {
   "cell_type": "code",
   "execution_count": null,
   "metadata": {},
   "outputs": [],
   "source": [
    "gaussian_pyramid_dog = build_gaussian_pyramid_opencv(dog, 5)\n",
    "gaussian_pyramid_moon = build_gaussian_pyramid_opencv(moon, 5)"
   ]
  },
  {
   "cell_type": "code",
   "execution_count": null,
   "metadata": {},
   "outputs": [],
   "source": [
    "laplacian_pyramid_dog = build_laplacian_pyramid_opencv(gaussian_pyramid_dog)\n",
    "laplacian_pyramid_moon = build_laplacian_pyramid_opencv(gaussian_pyramid_moon)"
   ]
  },
  {
   "cell_type": "code",
   "execution_count": null,
   "metadata": {},
   "outputs": [],
   "source": [
    "for i, el in enumerate(laplacian_pyramid_dog):\n",
    "    display_image(f'Gaussian Pyramid (level {i})', gaussian_pyramid_dog[i], f'Laplacian Pyramid (level {i})', el)"
   ]
  },
  {
   "cell_type": "code",
   "execution_count": null,
   "metadata": {},
   "outputs": [],
   "source": [
    "for i, el in enumerate(laplacian_pyramid_moon):\n",
    "    display_image(f'Gaussian Pyramid (level {i})', gaussian_pyramid_moon[i], f'Laplacian Pyramid (level {i})', el)"
   ]
  },
  {
   "cell_type": "markdown",
   "metadata": {},
   "source": [
    "* Blend the image dog.jpeg with the image moon.jpeg: create a Gaussian pyramid\n",
    "GR for the region of interest in the given mask mask.jpeg (first transform\n",
    "the mask to grayscale)."
   ]
  },
  {
   "cell_type": "code",
   "execution_count": null,
   "metadata": {},
   "outputs": [],
   "source": [
    "# set mask path\n",
    "mask_path = '../data/mask.jpeg'\n",
    "# read imgs\n",
    "mask = cv.imread(mask_path, cv.IMREAD_GRAYSCALE)\n",
    "\n",
    "# Build a Gaussian pyramid GR from selected region R\n",
    "gaussian_pyramid_mask = build_gaussian_pyramid_opencv(mask, 5)\n",
    "\n"
   ]
  },
  {
   "cell_type": "code",
   "execution_count": null,
   "metadata": {},
   "outputs": [],
   "source": [
    "def blend_pyramids(laplacian_pyramid_A, laplacian_pyramid_B, gaussian_pyramid_mask):\n",
    "    \"\"\"\n",
    "    Blends two images using laplacian pyramids and gaussian pyramid mask.\n",
    "    \"\"\"\n",
    "    gaussian_pyramid_mask = [gaussian_pyramid_mask[i] / 255 for i in range(len(gaussian_pyramid_mask))]\n",
    "    print(gaussian_pyramid_mask[0].max())\n",
    "    blended_pyramid = []\n",
    "    for l in range(len(laplacian_pyramid_A)):\n",
    "        L_S = laplacian_pyramid_A[l] * gaussian_pyramid_mask[l] + laplacian_pyramid_B[l] * (1 - gaussian_pyramid_mask[l])\n",
    "        blended_pyramid.append(L_S)\n",
    "    return blended_pyramid"
   ]
  },
  {
   "cell_type": "markdown",
   "metadata": {},
   "source": [
    "* Combine the Laplacian pyramids using GR as weights for the blending, i.e.\n",
    "$$\n",
    "LS_l(i, j) = GR_l(i, j) · LA_l(i, j) + (1 − GR_l(i, j)) · LB_l(i, j)\n",
    "$$"
   ]
  },
  {
   "cell_type": "code",
   "execution_count": null,
   "metadata": {},
   "outputs": [],
   "source": [
    "blended_dog_moon_pyramid = blend_pyramids(laplacian_pyramid_dog, laplacian_pyramid_moon, gaussian_pyramid_mask)\n",
    "\n",
    "print(\"Laplasian Pyramid of blended Dog/Moon\")\n",
    "for i, el in enumerate(blended_dog_moon_pyramid):\n",
    "    display_image(f'Blended Pyramid (level {i})', el)\n"
   ]
  },
  {
   "cell_type": "markdown",
   "metadata": {},
   "source": [
    "* Collapse the LS pyramid to obtain the final composite image:\n",
    "$LS_l = LS_l + expand(LS_{l+1})$. Apply the blending operation on the images\n",
    "inside task4 (the results will be funny)."
   ]
  },
  {
   "cell_type": "code",
   "execution_count": null,
   "metadata": {},
   "outputs": [],
   "source": [
    "def collapse_laplacian_pyramide(blended_pyramid):\n",
    "    \"\"\"\n",
    "    Collapses laplacian pyramid to one image.\n",
    "    \"\"\"\n",
    "    collapsed = blended_pyramid[-1].astype(float)\n",
    "    for i in range(len(blended_pyramid) - 2, -1, -1):\n",
    "        # collapsed = expand_my(collapsed, blended_pyramid[i].shape)\n",
    "        collapsed = cv.resize(collapsed, (blended_pyramid[i].shape[1], blended_pyramid[i].shape[0]))\n",
    "        collapsed = collapsed + blended_pyramid[i]\n",
    "    return ((collapsed / collapsed.max()) * 255).astype(np.uint8)"
   ]
  },
  {
   "cell_type": "code",
   "execution_count": null,
   "metadata": {},
   "outputs": [],
   "source": [
    "blended_dog_moon = collapse_laplacian_pyramide(blended_dog_moon_pyramid)\n",
    "print(\"Blended Dog/Moon collapsed Image\")\n",
    "display_image('Blended Dog Moon', blended_dog_moon)"
   ]
  }
 ],
 "metadata": {
  "kernelspec": {
   "display_name": "Python 3.8.13 ('cv_env')",
   "language": "python",
   "name": "python3"
  },
  "language_info": {
   "codemirror_mode": {
    "name": "ipython",
    "version": 3
   },
   "file_extension": ".py",
   "mimetype": "text/x-python",
   "name": "python",
   "nbconvert_exporter": "python",
   "pygments_lexer": "ipython3",
   "version": "3.8.13"
  },
  "orig_nbformat": 4,
  "vscode": {
   "interpreter": {
    "hash": "6575df8689e32b9fc05c86a642b5f1ce6f6ccbbde21a4863f25235c356e119e3"
   }
  }
 },
 "nbformat": 4,
 "nbformat_minor": 2
}
